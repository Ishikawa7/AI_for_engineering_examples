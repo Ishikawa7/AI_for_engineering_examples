{
 "cells": [
  {
   "cell_type": "markdown",
   "id": "5e275269",
   "metadata": {},
   "source": [
    "# Battery Fast Charging Optimization using Neural Networks\n",
    "\n",
    "This notebook demonstrates the optimization of battery fast charging parameters using artificial neural networks (ANNs). The goal is to optimize anode and cathode porosity to maximize battery capacity.\n",
    "\n",
    "## Overview\n",
    "1. **Data Loading**: Load training data for anode/cathode porosity and corresponding capacity values\n",
    "2. **Data Preprocessing**: Normalize input features and target values\n",
    "3. **Neural Network Training**: Train an ANN to predict battery capacity from porosity parameters\n",
    "4. **Optimization**: Use gradient-based optimization to find optimal porosity values\n",
    "5. **Results Visualization**: Plot optimization progress and calculate final optimized values"
   ]
  },
  {
   "cell_type": "code",
   "execution_count": null,
   "id": "a6984331",
   "metadata": {},
   "outputs": [],
   "source": [
    "import torch\n",
    "import torch.nn as nn\n",
    "import torch.optim as optim\n",
    "import numpy as np\n",
    "import matplotlib.pyplot as plt"
   ]
  },
  {
   "cell_type": "markdown",
   "id": "c865c7a8",
   "metadata": {},
   "source": [
    "## 1. Import Required Libraries\n",
    "\n",
    "Import necessary libraries for neural network implementation, data processing, and visualization:\n",
    "- **PyTorch**: For neural network creation and training\n",
    "- **NumPy**: For numerical operations and data handling\n",
    "- **Matplotlib**: For plotting results and optimization progress"
   ]
  },
  {
   "cell_type": "code",
   "execution_count": null,
   "id": "a08f7f3a",
   "metadata": {},
   "outputs": [],
   "source": [
    "input_data_raw1 = np.loadtxt('input_data_save.txt')\n",
    "cap_data_raw1 = np.loadtxt('cap_data_save.txt')"
   ]
  },
  {
   "cell_type": "markdown",
   "id": "bd46971a",
   "metadata": {},
   "source": [
    "## 2. Load Training Data\n",
    "\n",
    "Load the pre-generated training dataset:\n",
    "- **input_data_save.txt**: Contains anode and cathode porosity values (2 features)\n",
    "- **cap_data_save.txt**: Contains corresponding battery capacity values (target variable)\n",
    "\n",
    "The training data represents the relationship between electrode porosity and battery performance."
   ]
  },
  {
   "cell_type": "code",
   "execution_count": null,
   "id": "1793512c",
   "metadata": {},
   "outputs": [],
   "source": [
    "# Convert the training data to PyTorch tensors\n",
    "x_train_tensor_raw = torch.tensor(input_data_raw1, dtype=torch.float32)\n",
    "y_train_tensor_raw = torch.tensor(cap_data_raw1, dtype=torch.float32)"
   ]
  },
  {
   "cell_type": "markdown",
   "id": "a415d0b1",
   "metadata": {},
   "source": [
    "## 3. Convert Data to PyTorch Tensors\n",
    "\n",
    "Convert the loaded NumPy arrays to PyTorch tensors for compatibility with neural network operations:\n",
    "- Input features (x_train_tensor_raw): Porosity values for anode and cathode\n",
    "- Target values (y_train_tensor_raw): Corresponding battery capacity measurements"
   ]
  },
  {
   "cell_type": "code",
   "execution_count": null,
   "id": "ba1176ce",
   "metadata": {},
   "outputs": [],
   "source": [
    "def normalize_tensor(tensor, max_val, min_val):\n",
    "    return (tensor - min_val) / (max_val - min_val)\n",
    "\n",
    "x_train_epsneg_raw1 = x_train_tensor_raw[:, 0]\n",
    "x_train_epspos_raw1 = x_train_tensor_raw[:, 1]\n",
    "\n",
    "max_epsneg = torch.max(x_train_epsneg_raw1)\n",
    "min_epsneg = torch.min(x_train_epsneg_raw1)\n",
    "\n",
    "max_epspos = torch.max(x_train_epspos_raw1)\n",
    "min_epspos = torch.min(x_train_epspos_raw1)\n",
    "\n",
    "x_train_epsneg_norm1 = normalize_tensor(x_train_epsneg_raw1, max_epsneg, min_epsneg)\n",
    "x_train_epspos_norm1 = normalize_tensor(x_train_epspos_raw1, max_epspos, min_epspos)\n",
    "x_train = torch.stack((x_train_epsneg_norm1, x_train_epspos_norm1), dim=1)\n",
    "\n",
    "y_train_tensor = y_train_tensor_raw\n",
    "max_y = torch.max(y_train_tensor)\n",
    "min_y = torch.min(y_train_tensor)\n",
    "\n",
    "y_train_norm = normalize_tensor(y_train_tensor, max_y, min_y)\n",
    "y_train = y_train_norm.reshape(200,1)"
   ]
  },
  {
   "cell_type": "markdown",
   "id": "a56f8f57",
   "metadata": {},
   "source": [
    "## 4. Data Normalization\n",
    "\n",
    "Normalize the input features and target values to improve neural network training performance:\n",
    "\n",
    "1. **Feature Normalization**: Scale anode and cathode porosity values to [0,1] range\n",
    "2. **Target Normalization**: Scale capacity values to [0,1] range\n",
    "3. **Store Min/Max Values**: Keep original bounds for later denormalization\n",
    "\n",
    "Normalization helps with:\n",
    "- Faster convergence during training\n",
    "- Better gradient flow\n",
    "- Numerical stability"
   ]
  },
  {
   "cell_type": "code",
   "execution_count": null,
   "id": "842418b2",
   "metadata": {},
   "outputs": [],
   "source": [
    "class ANN(nn.Module):\n",
    "    def __init__(self):\n",
    "        super(ANN, self).__init__()\n",
    "        # Define the layers\n",
    "        self.layer1 = nn.Linear(2, 15)  # Input layer (2 inputs) to first hidden layer (15 neurons)\n",
    "        self.layer2 = nn.Linear(15, 5)  # First hidden layer (15 neurons) to second hidden layer (5 neurons)\n",
    "        self.layer3 = nn.Linear(5, 1)   # Second hidden layer (5 neurons) to output layer (1 output)\n",
    "        \n",
    "        # Define activation function\n",
    "        self.relu = nn.ReLU()\n",
    "\n",
    "    def forward(self, x):\n",
    "        # Forward pass through the network\n",
    "        x = self.relu(self.layer1(x))\n",
    "        x = self.relu(self.layer2(x))\n",
    "        x = self.layer3(x)\n",
    "        return x\n",
    "\n",
    "# Instantiate the model\n",
    "model = ANN()\n",
    "\n",
    "# Define the loss function (Mean Squared Error for regression)\n",
    "criterion = nn.MSELoss()\n",
    "\n",
    "# Define the optimizer (Stochastic Gradient Descent)\n",
    "optimizer = optim.SGD(model.parameters(), lr=0.05)"
   ]
  },
  {
   "cell_type": "markdown",
   "id": "6eafa334",
   "metadata": {},
   "source": [
    "## 5. Define Neural Network Architecture\n",
    "\n",
    "Create an Artificial Neural Network (ANN) to learn the relationship between porosity and battery capacity:\n",
    "\n",
    "**Network Architecture:**\n",
    "- **Input Layer**: 2 neurons (anode porosity, cathode porosity)\n",
    "- **Hidden Layer 1**: 15 neurons with ReLU activation\n",
    "- **Hidden Layer 2**: 5 neurons with ReLU activation  \n",
    "- **Output Layer**: 1 neuron (battery capacity)\n",
    "\n",
    "**Training Setup:**\n",
    "- **Loss Function**: Mean Squared Error (MSE) for regression\n",
    "- **Optimizer**: Stochastic Gradient Descent (SGD) with learning rate 0.05"
   ]
  },
  {
   "cell_type": "code",
   "execution_count": null,
   "id": "0f96333c",
   "metadata": {},
   "outputs": [],
   "source": [
    "# Number of epochs for training\n",
    "num_epochs = 20000\n",
    "\n",
    "for epoch in range(num_epochs):\n",
    "    # Forward pass: compute the model output\n",
    "    outputs = model(x_train)\n",
    "    \n",
    "    # Compute the loss\n",
    "    loss = criterion(outputs, y_train)\n",
    "    \n",
    "    # Backward pass: compute the gradients\n",
    "    optimizer.zero_grad()\n",
    "    loss.backward()\n",
    "    \n",
    "    # Update the weights\n",
    "    optimizer.step()\n",
    "    \n",
    "    # Print the loss every 100 epochs\n",
    "    if (epoch+1) % 100 == 0:\n",
    "        print(f'Epoch [{epoch+1}/{num_epochs}], Loss: {loss.item():.4f}')"
   ]
  },
  {
   "cell_type": "markdown",
   "id": "98daabcd",
   "metadata": {},
   "source": [
    "## 6. Train the Neural Network\n",
    "\n",
    "Train the ANN for 20,000 epochs to learn the porosity-capacity relationship:\n",
    "\n",
    "**Training Process:**\n",
    "1. **Forward Pass**: Compute predicted capacity from input porosity values\n",
    "2. **Loss Calculation**: Compare predictions with actual capacity values using MSE\n",
    "3. **Backward Pass**: Calculate gradients using backpropagation\n",
    "4. **Parameter Update**: Adjust weights using SGD optimizer\n",
    "\n",
    "The training loss is printed every 100 epochs to monitor convergence."
   ]
  },
  {
   "cell_type": "code",
   "execution_count": null,
   "id": "bc2525c7",
   "metadata": {},
   "outputs": [],
   "source": [
    "# Define the function to optimize\n",
    "def objective_function(x):\n",
    "    tensor1 = x[0]    # 1 represents the anode porosity \n",
    "    tensor2 = x[1]    # 2 represents the cathode porosity\n",
    "    x_input = torch.stack((tensor1, tensor2), dim=0)\n",
    "    return model(x_input)\n",
    "\n",
    "# Initialize the inputs (parameters to optimize)\n",
    "val0 = torch.rand(1)    # an initial guess of anode porosity (normalized)\n",
    "val1 = torch.rand(1)    # an initial guess of cathode porosity (normalized)\n",
    "x = torch.tensor([val0, val1], requires_grad=True)\n",
    "\n",
    "# Define the optimizer (Stochastic Gradient Descent)\n",
    "optimizer = torch.optim.SGD([x], lr=0.01)  # lr is the learning rate\n",
    "\n",
    "# Number of optimization steps\n",
    "num_steps = 100\n",
    "\n",
    "# Lists to store the evolution of x[0], x[1], and loss\n",
    "x0_values = []\n",
    "x1_values = []\n",
    "\n",
    "# Optimization loop\n",
    "for step in range(num_steps):\n",
    "    # Zero the gradients from the previous step\n",
    "    optimizer.zero_grad()\n",
    "\n",
    "    # Compute the objective function\n",
    "    result = objective_function(x)\n",
    "    loss = -result[0]\n",
    "\n",
    "    # Compute the gradients (backward pass)\n",
    "    loss.backward()\n",
    "\n",
    "    # Update the parameters using the optimizer\n",
    "    optimizer.step()\n",
    "\n",
    "    # Apply the constraints to keep x[0] and x[1] within [0, 1]\n",
    "    with torch.no_grad():\n",
    "        x.clamp_(0, 1)  # In-place operation to clamp x within [0, 1]\n",
    "\n",
    "    # Store the current values of x[0], x[1], and loss\n",
    "    x0_values.append(x[0].item())\n",
    "    x1_values.append(x[1].item())\n",
    "\n",
    "    # Print the current value of the loss and parameters\n",
    "    print(f\"Step {step + 1}: x = {x.detach().numpy()}, Loss = {loss.item()}\")\n",
    "\n",
    "# Final optimized values\n",
    "print(f\"Optimized x: {x.detach().numpy()}\")\n",
    "print(f\"Final Loss: {objective_function(x).item()}\")"
   ]
  },
  {
   "cell_type": "markdown",
   "id": "a337c15e",
   "metadata": {},
   "source": [
    "## 7. Optimize Battery Parameters\n",
    "\n",
    "Use the trained neural network to find optimal porosity values that maximize battery capacity:\n",
    "\n",
    "**Optimization Strategy:**\n",
    "1. **Objective Function**: Use the trained ANN to predict capacity from porosity values\n",
    "2. **Gradient-Based Optimization**: Maximize capacity by minimizing negative capacity\n",
    "3. **Constraints**: Keep porosity values within feasible bounds [0,1] using clamping\n",
    "4. **Optimizer**: SGD with learning rate 0.01 for 100 optimization steps\n",
    "\n",
    "The optimization tracks the evolution of both anode and cathode porosity values."
   ]
  },
  {
   "cell_type": "code",
   "execution_count": null,
   "id": "39b076a3",
   "metadata": {},
   "outputs": [],
   "source": [
    "# Plotting the evolution of x[0] and x[1]\n",
    "plt.figure(figsize=(8, 6))\n",
    "plt.plot(x0_values, label='x[0]')\n",
    "plt.plot(x1_values, label='x[1]')\n",
    "plt.xlabel('Step')\n",
    "plt.ylabel('Value')\n",
    "plt.title('Evolution of x[0] and x[1]')\n",
    "plt.legend()\n",
    "plt.show()"
   ]
  },
  {
   "cell_type": "markdown",
   "id": "cc60a23d",
   "metadata": {},
   "source": [
    "## 8. Visualize Optimization Progress\n",
    "\n",
    "Plot the evolution of porosity parameters during the optimization process:\n",
    "- **x[0]**: Anode porosity evolution over optimization steps\n",
    "- **x[1]**: Cathode porosity evolution over optimization steps\n",
    "\n",
    "This visualization helps understand how the optimizer converges to the optimal values."
   ]
  },
  {
   "cell_type": "code",
   "execution_count": null,
   "id": "7b2db25c",
   "metadata": {},
   "outputs": [],
   "source": [
    "# define the de-normalization function\n",
    "def de_normalize_tensor(tensor, max_val, min_val):\n",
    "    return tensor * (max_val - min_val) + min_val\n",
    "    \n",
    "# de-normalize the porosity of anode and cathode\n",
    "value_real0 = de_normalize_tensor(x[0], max_epsneg, min_epsneg)\n",
    "print(value_real0)    # optimized result of anode porosity\n",
    "value_real1 = de_normalize_tensor(x[1], max_epspos, min_epspos)\n",
    "print(value_real1)    # optimized result of cathode porosity\n",
    "\n",
    "# de-normalize the capacity value (C/m^2)\n",
    "y = model(x)\n",
    "cap_optim = de_normalize_tensor(y[0], max_y, min_y)\n",
    "print(cap_optim)"
   ]
  },
  {
   "cell_type": "markdown",
   "id": "f79b8888",
   "metadata": {},
   "source": [
    "## 9. Extract Final Optimized Results\n",
    "\n",
    "Convert the normalized optimization results back to their original scales:\n",
    "\n",
    "1. **Denormalize Porosity Values**: Convert optimal anode and cathode porosity from [0,1] range back to physical units\n",
    "2. **Calculate Optimal Capacity**: Use the trained model to predict the maximum achievable capacity\n",
    "3. **Display Results**: Show the final optimized porosity values and corresponding capacity\n",
    "\n",
    "This gives us the practical battery design parameters for maximum fast charging performance."
   ]
  },
  {
   "cell_type": "code",
   "execution_count": null,
   "id": "78cc8591",
   "metadata": {},
   "outputs": [],
   "source": []
  },
  {
   "cell_type": "code",
   "execution_count": null,
   "id": "e4ea9223",
   "metadata": {},
   "outputs": [],
   "source": []
  }
 ],
 "metadata": {
  "language_info": {
   "name": "python"
  }
 },
 "nbformat": 4,
 "nbformat_minor": 5
}
